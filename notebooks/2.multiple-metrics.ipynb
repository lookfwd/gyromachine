{
 "cells": [
  {
   "cell_type": "markdown",
   "metadata": {},
   "source": [
    "# 2. Baseline across configurations"
   ]
  },
  {
   "cell_type": "markdown",
   "metadata": {},
   "source": [
    "Let's import the libraries"
   ]
  },
  {
   "cell_type": "code",
   "execution_count": null,
   "metadata": {},
   "outputs": [],
   "source": [
    "%matplotlib inline\n",
    "import matplotlib.pyplot as plt\n",
    "import gzip\n",
    "import re\n",
    "from scipy import signal\n",
    "import numpy as np\n",
    "\n",
    "import pyspark.sql.functions as F\n",
    "\n",
    "from utils import start_spark_session, get_s3, list_s3"
   ]
  },
  {
   "cell_type": "code",
   "execution_count": null,
   "metadata": {},
   "outputs": [],
   "source": [
    "spark = start_spark_session()"
   ]
  },
  {
   "cell_type": "code",
   "execution_count": null,
   "metadata": {},
   "outputs": [],
   "source": [
    "spark"
   ]
  },
  {
   "cell_type": "markdown",
   "metadata": {},
   "source": [
    "We can now analyze all configs. It's just an extra '*'. Everything else is the same as before."
   ]
  },
  {
   "cell_type": "code",
   "execution_count": null,
   "metadata": {},
   "outputs": [],
   "source": [
    "base_df = spark.read.text('s3a://enginestream/configs/*/batch_*.log.gz')\n",
    "logs_df = (base_df\n",
    "           .select(F.split('value', '[:,]').alias('cols'))\n",
    "           .select(F.expr(\"cols[0]\").cast(\"float\").alias('time'),\n",
    "                   F.expr(\"cols[1]\").cast(\"long\").alias('cycle'),\n",
    "                   F.expr(\"cols[2]\").cast(\"long\").alias('conf'),\n",
    "                   F.expr(\"cols[3]\").cast(\"long\").alias('run'),\n",
    "                   F.expr(\"cols[4]\").cast(\"float\").alias('x'),\n",
    "                   F.expr(\"cols[5]\").cast(\"float\").alias('y'),\n",
    "                   F.expr(\"cols[6]\").cast(\"float\").alias('z'))\n",
    "           .drop(\"cols\"))\n",
    "\n",
    "logs_df.createOrReplaceTempView(\"logs\")"
   ]
  },
  {
   "cell_type": "markdown",
   "metadata": {},
   "source": [
    "Let's see how many we have for each configuration"
   ]
  },
  {
   "cell_type": "code",
   "execution_count": null,
   "metadata": {},
   "outputs": [],
   "source": [
    "pdf = (spark.sql(\"SELECT conf, COUNT(1) as cnt \"\n",
    "                 \"FROM logs \"\n",
    "                 \"GROUP BY conf \"\n",
    "                 \"ORDER BY cnt DESC\")\n",
    "       .toPandas())\n",
    "pdf"
   ]
  },
  {
   "cell_type": "markdown",
   "metadata": {},
   "source": [
    "They have names too..."
   ]
  },
  {
   "cell_type": "code",
   "execution_count": null,
   "metadata": {},
   "outputs": [],
   "source": [
    "from pyspark.sql.types import *\n",
    "\n",
    "schema = StructType([StructField('conf', LongType()),\n",
    "                     StructField('name', StringType())])\n",
    "names_df = spark.read.csv('names.csv', header=True, schema=schema)\n",
    "names_df.createOrReplaceTempView(\"names\")\n",
    "\n",
    "names_pdf = names_df.toPandas()\n",
    "names_pdf"
   ]
  },
  {
   "cell_type": "markdown",
   "metadata": {},
   "source": [
    "The following query will take a couple of minutes. Explore the Spark UI in the meanwhile. Can you see the DAG? What is Spark doing?"
   ]
  },
  {
   "cell_type": "code",
   "execution_count": null,
   "metadata": {},
   "outputs": [],
   "source": [
    "pdf = (spark.sql(\"SELECT names.name, COUNT(1) as cnt \"\n",
    "                 \"FROM logs, names \"\n",
    "                 \"WHERE logs.conf = names.conf \"\n",
    "                 \"GROUP BY names.name \"\n",
    "                 \"ORDER BY cnt DESC\")\n",
    "       .toPandas())\n",
    "pdf"
   ]
  },
  {
   "cell_type": "markdown",
   "metadata": {},
   "source": [
    "Let's extract duration histograms for all those too. This will also take a while (4 minutes). Use the terminal to run top. You didn't write any multithreading or multiprocessing code but you get concurrency while writing clean code."
   ]
  },
  {
   "cell_type": "code",
   "execution_count": null,
   "metadata": {},
   "outputs": [],
   "source": [
    "dur_df = spark.sql(\"SELECT conf, run, MAX(time) - MIN(time) AS duration \"\n",
    "                   \"FROM logs \"\n",
    "                   \"GROUP BY conf, run, cycle\"\n",
    "                  ).cache()\n",
    "pdf = dur_df.toPandas()\n",
    "pdf"
   ]
  },
  {
   "cell_type": "markdown",
   "metadata": {},
   "source": [
    "Ok, let's plot those"
   ]
  },
  {
   "cell_type": "code",
   "execution_count": null,
   "metadata": {},
   "outputs": [],
   "source": [
    "f, a = plt.subplots(9, 2)\n",
    "f.set_figwidth(15)\n",
    "f.set_figheight(30)\n",
    "a = a.ravel()\n",
    "for conf, ax in enumerate(a):\n",
    "    name = names_pdf[names_pdf['conf'] == conf].iloc[0]['name']\n",
    "    conf_pdf = pdf[pdf['conf'] == conf]\n",
    "    conf_pdf['duration'].hist(ax=ax)\n",
    "    ax.set_title(name)"
   ]
  },
  {
   "cell_type": "markdown",
   "metadata": {},
   "source": [
    "We can see that there's noise in some cases - greater than a couple of seconds or less than 0.05. Let's filter those values away across the spectrum."
   ]
  },
  {
   "cell_type": "code",
   "execution_count": null,
   "metadata": {},
   "outputs": [],
   "source": [
    "f, a = plt.subplots(9, 2)\n",
    "f.set_figwidth(15)\n",
    "f.set_figheight(30)\n",
    "a = a.ravel()\n",
    "for conf, ax in enumerate(a):\n",
    "    name = names_pdf[names_pdf['conf'] == conf].iloc[0]['name']\n",
    "    conf_pdf = pdf[(pdf['conf'] == conf) &\n",
    "                   (pdf['duration'] > 0.05) &\n",
    "                   (pdf['duration'] < 100)]\n",
    "    conf_pdf['duration'].hist(ax=ax)\n",
    "    ax.set_title(name)"
   ]
  },
  {
   "cell_type": "markdown",
   "metadata": {},
   "source": [
    "We can see that most of them are ok with that range. Let's build a spark dataframe with their quantiles."
   ]
  },
  {
   "cell_type": "code",
   "execution_count": null,
   "metadata": {},
   "outputs": [],
   "source": [
    "rows = []\n",
    "for conf in range(18):\n",
    "    name = names_pdf[names_pdf['conf'] == conf].iloc[0]['name']\n",
    "    conf_pdf = pdf[(pdf['conf'] == conf) &\n",
    "                   (pdf['duration'] > 0.05) &\n",
    "                   (pdf['duration'] < 100)]\n",
    "    q99 = float(conf_pdf['duration'].quantile(q=0.99))\n",
    "    rows.append([conf, name, q99])\n",
    "\n",
    "schema = StructType([StructField('conf', LongType()),\n",
    "                     StructField('name', StringType()),\n",
    "                     StructField('q99', FloatType())])\n",
    "\n",
    "q_df = spark.createDataFrame(rows, schema)\n",
    "q_df.toPandas()"
   ]
  },
  {
   "cell_type": "code",
   "execution_count": null,
   "metadata": {},
   "outputs": [],
   "source": [
    "q_df.coalesce(1).write.parquet('q99.parquet')"
   ]
  },
  {
   "cell_type": "markdown",
   "metadata": {},
   "source": [
    "Parquet files are easy to read, are column based (fast for many queries) and include their schema"
   ]
  },
  {
   "cell_type": "code",
   "execution_count": null,
   "metadata": {},
   "outputs": [],
   "source": [
    "q_load_df = spark.read.parquet('q99.parquet')\n",
    "q_load_df.printSchema()"
   ]
  }
 ],
 "metadata": {
  "kernelspec": {
   "display_name": "Python 3",
   "language": "python",
   "name": "python3"
  },
  "language_info": {
   "codemirror_mode": {
    "name": "ipython",
    "version": 3
   },
   "file_extension": ".py",
   "mimetype": "text/x-python",
   "name": "python",
   "nbconvert_exporter": "python",
   "pygments_lexer": "ipython3",
   "version": "3.6.8"
  }
 },
 "nbformat": 4,
 "nbformat_minor": 2
}
